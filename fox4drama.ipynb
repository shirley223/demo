import requests 
import re 
import json 

url = ['https://manbo.hongdoulive.com/Activecard/episode?id=1665270391293083661&radioDramaId=1654648215615569956&t=1658916001527',
       'https://manbo.hongdoulive.com/Activecard/episode?id=1661996943313731655&radioDramaId=1653424609497710659&t=1656918000527',
       'https://manbo.hongdoulive.com/Activecard/episode?id=1570439274333995088&radioDramaId=1554716979611303976&t=1658125657842',
       'https://manbo.hongdoulive.com/Activecard/episode?id=1702349599873695824&radioDramaId=1697277140417904732&t=1661467947482']

#print(url[0],len(url))

for k in range(0,len(url)):
    print(k)
    episode_id = url[k].split('id=')[1][:19] 
    #print(episode_id)
    radio_id = url[k].split('DramaId=')[1][:19] 


    new_url = "https://manbo.hongrenshuo.com.cn/api/v207/radio/drama/set/h5/detail?radioDramaSetId=%s&radioDramaId=%s" % (episode_id, radio_id) 
    #print(new_url)
    r = requests.get(new_url) 
    res = json.loads(r.content) 
    episode = [] 
    num = str(r.content).count('vipFree') 
    for i in range(1, num): 
        temp = str(res['b']).split("setId': ")[i] 
        if 'vipFree' not in temp: 
            continue 
        if temp.split("'payType': ")[1][0] == '1' or temp.split("'vipFree': ")[1][0] == '1': 
            episode.append(str(res['b']).split("setId': ")[i][:19]) 
    danmu = [] 
    for each in set(episode): 
        next_url = "https://manbo.hongrenshuo.com.cn/api/v11/radio/drama/set/danmaku/h5/pull?radioDramaSetId=%s&startTime=0&endTime=10000000" % each 
        r = requests.get(next_url) 
        res = json.loads(r.content)['b'] 
        for j in res['danmakuList']: 
            danmu.append(j['eid']) 

    if radio_id =='1654648215615569956':
        radio_name ='殿下让我还他清誉1'
    if radio_id =='1653424609497710659':
        radio_name ='心眼1'
    if radio_id =='1554716979611303976':
        radio_name ='我行让我来1'
    if radio_id =='1697277140417904732':
        radio_name ='万有引力1'
        
    
    print(radio_name,"的付费集ID数：%d" % len(set(danmu))) 
    print(radio_name,"的付费集弹幕数：%d" % len(danmu))
    
